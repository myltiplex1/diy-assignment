{
 "cells": [
  {
   "cell_type": "markdown",
   "id": "04a6ef8f",
   "metadata": {},
   "source": [
    "## DIY 1"
   ]
  },
  {
   "cell_type": "code",
   "execution_count": 3,
   "id": "1be83194",
   "metadata": {},
   "outputs": [
    {
     "name": "stdout",
     "output_type": "stream",
     "text": [
      "enter a positive integer: 10000000\n",
      "10000000\n",
      "Execution time: 1.2618744373321533 seconds\n"
     ]
    }
   ],
   "source": [
    "import time\n",
    "\n",
    "max_val = int(input('enter a positive integer: '))\n",
    "i = 0\n",
    "\n",
    "start_time = time.time()\n",
    "\n",
    "while i < max_val:\n",
    "    i = i + 1\n",
    "\n",
    "end_time = time.time()\n",
    "\n",
    "print(i)\n",
    "print(f\"Execution time: {end_time - start_time} seconds\")"
   ]
  },
  {
   "cell_type": "markdown",
   "id": "5b9fdbbb",
   "metadata": {},
   "source": [
    "## DIY 2"
   ]
  },
  {
   "cell_type": "code",
   "execution_count": 4,
   "id": "c17a8036",
   "metadata": {},
   "outputs": [
    {
     "name": "stdout",
     "output_type": "stream",
     "text": [
      "Enter an integer greater than 2: 1000\n",
      "Largest divisor of 1000 is 500\n"
     ]
    }
   ],
   "source": [
    "x = int(input('Enter an integer greater than 2: '))\n",
    "largest_divisor = None\n",
    "for guess in range(2, x):\n",
    "    if x%guess == 0:\n",
    "        largest_divisor = guess\n",
    "if largest_divisor != None:\n",
    "    print('Largest divisor of' , x, 'is', largest_divisor)\n",
    "else:\n",
    "    print(x, 'is a prime number')"
   ]
  },
  {
   "cell_type": "markdown",
   "id": "515b29fc",
   "metadata": {},
   "source": [
    "## DIY 3"
   ]
  },
  {
   "cell_type": "code",
   "execution_count": 1,
   "id": "e78046ad",
   "metadata": {},
   "outputs": [
    {
     "name": "stdout",
     "output_type": "stream",
     "text": [
      "76125\n"
     ]
    }
   ],
   "source": [
    "primes = 0\n",
    "for num in range(3, 1001):\n",
    "    for i in range(2, num):\n",
    "        if num % i == 0:\n",
    "            break\n",
    "    else:\n",
    "        primes+=num\n",
    "print(primes)"
   ]
  },
  {
   "cell_type": "markdown",
   "id": "38a3a51d",
   "metadata": {},
   "source": [
    "## DIY 4"
   ]
  },
  {
   "cell_type": "code",
   "execution_count": 7,
   "id": "7be2e517",
   "metadata": {},
   "outputs": [
    {
     "data": {
      "image/png": "[encoded data removed]",
      "text/plain": [
       "<Figure size 640x480 with 1 Axes>"
      ]
     },
     "metadata": {},
     "output_type": "display_data"
    }
   ],
   "source": [
    "num_of_digits = []\n",
    "num_of_tries = []\n",
    "for i in range(5,41,5):\n",
    "    x = i\n",
    "    epsilon = 0.01\n",
    "    num_guesses, low = 0, 0\n",
    "    high =  max(1,x)\n",
    "    ans = (high + low)/2\n",
    "    while abs(ans**2 -x) >= epsilon:\n",
    "        num_guesses  += 1\n",
    "        if ans**2 < x:\n",
    "            low = ans\n",
    "        else:\n",
    "            high = ans\n",
    "        ans = (high + low)/2\n",
    "    num_of_digits.append(i)\n",
    "    num_of_tries.append(num_guesses)\n",
    "import matplotlib.pyplot as plt\n",
    "plt.plot(num_of_digits,num_of_tries)\n",
    "plt.xlabel('Number of digits')\n",
    "plt.ylabel('Number of tries');\n",
    "# the graph is somewhat in a zigzag manner"
   ]
  },
  {
   "cell_type": "markdown",
   "id": "d00dd775",
   "metadata": {},
   "source": [
    "## DIY 5"
   ]
  },
  {
   "cell_type": "code",
   "execution_count": 6,
   "id": "7360d5b2",
   "metadata": {},
   "outputs": [
    {
     "name": "stdout",
     "output_type": "stream",
     "text": [
      "Enter the first number: 5\n",
      "Enter the second number: 2\n",
      "The product of 5.0 and 2.0 is 10.0\n"
     ]
    }
   ],
   "source": [
    "import math\n",
    "\n",
    "num1 = float(input(\"Enter the first number: \"))\n",
    "num2 = float(input(\"Enter the second number: \"))\n",
    "\n",
    "log_product = math.log10(num1) + math.log10(num2)\n",
    "product = 10 ** log_product\n",
    "\n",
    "print(\"The product of\", num1, \"and\", num2, \"is\", product)"
   ]
  },
  {
   "cell_type": "markdown",
   "id": "3c26bc71",
   "metadata": {},
   "source": [
    "## DIY 6"
   ]
  },
  {
   "cell_type": "code",
   "execution_count": 7,
   "id": "559dc83d",
   "metadata": {},
   "outputs": [
    {
     "name": "stdout",
     "output_type": "stream",
     "text": [
      "Enter the first number: 5\n",
      "Enter the second number: 4\n",
      "The product of 5.0 and 4.0 is 20.000000000000004\n",
      "The gain of 26.020599913279625 is dB\n"
     ]
    }
   ],
   "source": [
    "import math\n",
    "\n",
    "num1 = float(input(\"Enter the first number: \"))\n",
    "num2 = float(input(\"Enter the second number: \"))\n",
    "\n",
    "log_product = math.log10(num1) + math.log10(num2)\n",
    "product = 10 ** log_product\n",
    "gain = 20 * math.log10(product)\n",
    "\n",
    "print(\"The product of\", num1, \"and\", num2, \"is\", product)\n",
    "print(\"The gain of\", gain, \"is\", \"dB\")"
   ]
  },
  {
   "cell_type": "code",
   "execution_count": null,
   "id": "c0d299c3",
   "metadata": {},
   "outputs": [],
   "source": []
  }
 ],
 "metadata": {
  "kernelspec": {
   "display_name": "Python 3 (ipykernel)",
   "language": "python",
   "name": "python3"
  },
  "language_info": {
   "codemirror_mode": {
    "name": "ipython",
    "version": 3
   },
   "file_extension": ".py",
   "mimetype": "text/x-python",
   "name": "python",
   "nbconvert_exporter": "python",
   "pygments_lexer": "ipython3",
   "version": "3.9.13"
  }
 },
 "nbformat": 4,
 "nbformat_minor": 5
}
